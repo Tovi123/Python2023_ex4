{
 "cells": [
  {
   "cell_type": "code",
   "execution_count": 1,
   "id": "e24be0b8-90a0-4a0f-9e3c-8131df866c5c",
   "metadata": {},
   "outputs": [],
   "source": [
    "import pandas as pd\n",
    "import numpy as np\n",
    "from bs4 import BeautifulSoup\n",
    "import requests\n",
    "import re"
   ]
  },
  {
   "cell_type": "code",
   "execution_count": 7,
   "id": "4392aa44-8e5b-4a75-a4eb-4701bd5e000b",
   "metadata": {},
   "outputs": [],
   "source": [
    "def madlan_apartments():\n",
    "    url = \"https://www.madlan.co.il/for-sale/גבעת-שמואל-ישראל\"\n",
    "    headers = {'User-Agent': 'Mozilla/5.0 (Windows NT 10.0; Win64; x64) AppleWebKit/537.36 (KHTML, like Gecko) Chrome/91.0.4472.164 Safari/537.36 Edg/91.0.864.59'}\n",
    "    response = requests.get(url,headers= headers)\n",
    "    if response.status_code == 200:\n",
    "        print(\"Success\")\n",
    "    else:\n",
    "        print(\"Failure\")\n",
    "    soup = BeautifulSoup(response.content, 'html.parser')\n",
    "\n",
    "    data = pd.DataFrame(columns=['City', 'type', 'room_number', 'Area', 'Street', 'number_in_street', 'city_area', 'price'])\n",
    "    type_list = list()\n",
    "    room_number_list = list()\n",
    "    Area_list = list()\n",
    "    Street_info = list()\n",
    "    price_list = list()\n",
    "    street_num = list()\n",
    "    Street = list()\n",
    "    number_in_street = list()\n",
    "    city_area = list()\n",
    "    \n",
    "    for type_ in soup.find_all('div', {'data-auto': 'property-class', 'class': 'css-1i00gl6 e1sx3tzs17'}):\n",
    "        type_list.append(type_.get_text())\n",
    "    for room in soup.find_all('div', {'data-auto': 'property-rooms', 'class': 'css-1i00gl6 e1sx3tzs17'}):\n",
    "        room_number_list.append(room.get_text())\n",
    "    for area in soup.find_all('div', {'data-auto': 'property-size', 'class': 'css-1i00gl6 e1sx3tzs17'}):\n",
    "        Area_list.append(area.get_text())\n",
    "    for street in soup.find_all('div', {'data-auto': 'property-address', 'class': 'css-v4h09j e1sx3tzs16'}):\n",
    "        Street_info.append(street.get_text()) \n",
    "    for i in Street_info:\n",
    "        i = i.split(',')\n",
    "        if len(i) == 2:\n",
    "            area = i[1]\n",
    "            adress = i[0]\n",
    "            street_num.append(adress.strip())\n",
    "        else:\n",
    "            area = i[0]\n",
    "        city_area.append(area.strip())\n",
    "    for item in street_num:\n",
    "        match = re.search(r'\\b(\\d+)\\b', item)\n",
    "        if match:\n",
    "            number_in_street.append(match.group(1))\n",
    "            Street.append(re.sub(r'\\b\\d+\\b', '', item).strip())\n",
    "        else:\n",
    "            number_in_street.append(' ')\n",
    "            Street.append(item)   \n",
    "    for price in soup.find_all('div', {'data-auto': 'property-price', 'class': 'css-19tpcfu eu6esji3'}):\n",
    "        price_text = price.get_text()\n",
    "        price_cut = price_text[:10]\n",
    "        price_list.append(price_cut)\n",
    "        \n",
    "        type_list = type_list[:len(Street)]\n",
    "        room_number_list = room_number_list[:len(Street)]        \n",
    "        Area_list = Area_list[:len(Street)]\n",
    "        city_area = city_area[:len(Street)]\n",
    "        price_list = price_list[:len(Street)]\n",
    "\n",
    "        data['City'] = 'גבעת-שמואל'\n",
    "        data['type'] = type_list\n",
    "        data['room_number'] = room_number_list\n",
    "        data['Area'] = Area_list\n",
    "        data['Street'] = Street\n",
    "        data['number_in_street'] = number_in_street\n",
    "        data['city_area'] = city_area\n",
    "        data['price'] = price_list\n",
    "        \n",
    "        return data\n"
   ]
  },
  {
   "cell_type": "code",
   "execution_count": 8,
   "id": "adc929bf-04e1-4417-acd3-ae8d3cf67f80",
   "metadata": {},
   "outputs": [
    {
     "name": "stdout",
     "output_type": "stream",
     "text": [
      "Failure\n"
     ]
    }
   ],
   "source": [
    "data= madlan_apartments()\n",
    "data"
   ]
  },
  {
   "cell_type": "code",
   "execution_count": 4,
   "id": "8256f37f-b5e8-4538-9665-131d4627a057",
   "metadata": {},
   "outputs": [
    {
     "ename": "AttributeError",
     "evalue": "'NoneType' object has no attribute 'to_csv'",
     "output_type": "error",
     "traceback": [
      "\u001b[1;31m---------------------------------------------------------------------------\u001b[0m",
      "\u001b[1;31mAttributeError\u001b[0m                            Traceback (most recent call last)",
      "\u001b[1;32m<ipython-input-4-e5bfcad6c138>\u001b[0m in \u001b[0;36m<module>\u001b[1;34m\u001b[0m\n\u001b[1;32m----> 1\u001b[1;33m \u001b[0mdata\u001b[0m\u001b[1;33m.\u001b[0m\u001b[0mto_csv\u001b[0m\u001b[1;33m(\u001b[0m\u001b[1;34m'property_final.csv'\u001b[0m\u001b[1;33m,\u001b[0m\u001b[0mencoding\u001b[0m\u001b[1;33m=\u001b[0m\u001b[1;34m'utf-8-sig'\u001b[0m\u001b[1;33m,\u001b[0m\u001b[0mindex\u001b[0m \u001b[1;33m=\u001b[0m \u001b[1;32mFalse\u001b[0m\u001b[1;33m)\u001b[0m\u001b[1;33m\u001b[0m\u001b[1;33m\u001b[0m\u001b[0m\n\u001b[0m",
      "\u001b[1;31mAttributeError\u001b[0m: 'NoneType' object has no attribute 'to_csv'"
     ]
    }
   ],
   "source": [
    "data.to_csv('property_final.csv',encoding='utf-8-sig',index = False)"
   ]
  }
 ],
 "metadata": {
  "kernelspec": {
   "display_name": "Python 3",
   "language": "python",
   "name": "python3"
  },
  "language_info": {
   "codemirror_mode": {
    "name": "ipython",
    "version": 3
   },
   "file_extension": ".py",
   "mimetype": "text/x-python",
   "name": "python",
   "nbconvert_exporter": "python",
   "pygments_lexer": "ipython3",
   "version": "3.8.8"
  }
 },
 "nbformat": 4,
 "nbformat_minor": 5
}
